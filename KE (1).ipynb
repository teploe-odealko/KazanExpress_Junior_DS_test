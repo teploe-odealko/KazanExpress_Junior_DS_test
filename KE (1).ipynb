{
  "nbformat": 4,
  "nbformat_minor": 0,
  "metadata": {
    "accelerator": "GPU",
    "colab": {
      "name": "KE.ipynb",
      "provenance": [],
      "collapsed_sections": [
        "NHbe3nBufPA4",
        "vNU8bUUvfc_l",
        "fE1DviJfgGrg",
        "wDB1pQd8P6Cx",
        "DktvQhP8hJ_Q",
        "GXEEXY_siQyJ",
        "WZ9RxyoZiu6N",
        "tcthuNDbEZ0R",
        "5MDlHsPbPi8Y",
        "IotnLNkdQ4jO"
      ]
    },
    "kernelspec": {
      "display_name": "Python 3",
      "name": "python3"
    },
    "language_info": {
      "name": "python"
    }
  },
  "cells": [
    {
      "cell_type": "markdown",
      "metadata": {
        "id": "NHbe3nBufPA4"
      },
      "source": [
        "# Imports"
      ]
    },
    {
      "cell_type": "code",
      "metadata": {
        "colab": {
          "base_uri": "https://localhost:8080/"
        },
        "id": "Ix7AhtWGFmRf",
        "outputId": "664c66c8-c380-4b73-d21b-cae123e5b17e"
      },
      "source": [
        "!gdown https://drive.google.com/uc?id=1JiZ4Q791pF-7a85gMea-gfVVcajWg6HD\n"
      ],
      "execution_count": 1,
      "outputs": [
        {
          "output_type": "stream",
          "name": "stdout",
          "text": [
            "Downloading...\n",
            "From: https://drive.google.com/uc?id=1JiZ4Q791pF-7a85gMea-gfVVcajWg6HD\n",
            "To: /content/KazanExpress_Hiring_Task_Junior_DS.zip\n",
            "\r0.00B [00:00, ?B/s]\r3.66MB [00:00, 117MB/s]\n"
          ]
        }
      ]
    },
    {
      "cell_type": "code",
      "metadata": {
        "colab": {
          "base_uri": "https://localhost:8080/"
        },
        "id": "AV2ON2LIY0ac",
        "outputId": "02683510-bea5-44cd-d3b5-0173c7cc8e3d"
      },
      "source": [
        "!unzip KazanExpress_Hiring_Task_Junior_DS.zip"
      ],
      "execution_count": 2,
      "outputs": [
        {
          "output_type": "stream",
          "name": "stdout",
          "text": [
            "Archive:  KazanExpress_Hiring_Task_Junior_DS.zip\n",
            "  inflating: README.md               \n",
            "   creating: data/\n",
            "  inflating: data/categories.csv     \n",
            "  inflating: data/products.csv       \n"
          ]
        }
      ]
    },
    {
      "cell_type": "code",
      "metadata": {
        "id": "TO6NrLzFZJ28"
      },
      "source": [
        "import pandas as pd\n",
        "import matplotlib.pyplot as plt\n",
        "import numpy as np"
      ],
      "execution_count": 3,
      "outputs": []
    },
    {
      "cell_type": "code",
      "metadata": {
        "id": "Hye2-_Gx4yxh",
        "colab": {
          "base_uri": "https://localhost:8080/"
        },
        "outputId": "fce2956c-cbe3-460e-c776-ef0ca6e418f8"
      },
      "source": [
        "from sklearn.model_selection import train_test_split, cross_validate, GridSearchCV, RandomizedSearchCV\n",
        "from sklearn.feature_extraction.text import TfidfVectorizer, CountVectorizer\n",
        "from sklearn.naive_bayes import MultinomialNB\n",
        "from sklearn.metrics import classification_report, confusion_matrix\n",
        "from sklearn.metrics import precision_recall_fscore_support\n",
        "from sklearn.metrics import accuracy_score, roc_auc_score\n",
        "from sklearn.linear_model import LogisticRegression, SGDClassifier\n",
        "from sklearn.ensemble import RandomForestClassifier\n",
        "from sklearn.preprocessing import StandardScaler\n",
        "\n",
        "from gensim.models import Word2Vec\n",
        "\n",
        "# from catboost import CatBoostClassifier\n",
        "\n",
        "#text processing\n",
        "import nltk\n",
        "from nltk import word_tokenize, sent_tokenize, FreqDist\n",
        "nltk.download('punkt')\n",
        "nltk.download('stopwords')\n",
        "from nltk.tokenize import RegexpTokenizer\n",
        "from nltk.util import ngrams"
      ],
      "execution_count": 4,
      "outputs": [
        {
          "output_type": "stream",
          "name": "stdout",
          "text": [
            "[nltk_data] Downloading package punkt to /root/nltk_data...\n",
            "[nltk_data]   Unzipping tokenizers/punkt.zip.\n",
            "[nltk_data] Downloading package stopwords to /root/nltk_data...\n",
            "[nltk_data]   Unzipping corpora/stopwords.zip.\n"
          ]
        }
      ]
    },
    {
      "cell_type": "code",
      "metadata": {
        "id": "bY-VChKRZNii"
      },
      "source": [
        "cat = pd.read_csv('/content/data/categories.csv')\n",
        "prod = pd.read_csv('/content/data/products.csv')"
      ],
      "execution_count": 5,
      "outputs": []
    },
    {
      "cell_type": "markdown",
      "metadata": {
        "id": "vNU8bUUvfc_l"
      },
      "source": [
        "# Data"
      ]
    },
    {
      "cell_type": "markdown",
      "metadata": {
        "id": "2qhDSBUTfIQP"
      },
      "source": [
        "Количесво классов"
      ]
    },
    {
      "cell_type": "code",
      "metadata": {
        "colab": {
          "base_uri": "https://localhost:8080/"
        },
        "id": "H0S88TK9IluG",
        "outputId": "bdc6e5ef-ab4a-43cf-af1a-361528a4b312"
      },
      "source": [
        "len(prod.category_id.unique())"
      ],
      "execution_count": 6,
      "outputs": [
        {
          "output_type": "execute_result",
          "data": {
            "text/plain": [
              "787"
            ]
          },
          "metadata": {},
          "execution_count": 6
        }
      ]
    },
    {
      "cell_type": "code",
      "metadata": {
        "id": "CEznK3MXOSHu"
      },
      "source": [
        "category_dict = {}\n",
        "for index, row in cat.iterrows():\n",
        "    category_id = row['category_path'].split('.')[-1]\n",
        "    category_dict[int(category_id)] = row['category_path']"
      ],
      "execution_count": 7,
      "outputs": []
    },
    {
      "cell_type": "code",
      "metadata": {
        "id": "wkmdWAuHK9Cs"
      },
      "source": [
        "prod['full_category'] = prod['category_id'].apply(lambda cat_id: category_dict[cat_id])"
      ],
      "execution_count": 8,
      "outputs": []
    },
    {
      "cell_type": "markdown",
      "metadata": {
        "id": "sI3J00sHfilL"
      },
      "source": [
        ""
      ]
    },
    {
      "cell_type": "code",
      "metadata": {
        "id": "LcU1YTOTPMFd"
      },
      "source": [
        "prod['category_1'] = prod.full_category.apply(lambda full_cat: full_cat.split('.')[0])\n",
        "prod['category_2'] = prod.full_category.apply(lambda full_cat: full_cat.split('.')[1])\n",
        "prod['category_3'] = prod.full_category.apply(lambda full_cat: full_cat.split('.')[2])\n",
        "prod['category_4'] = prod.full_category.apply(lambda full_cat: full_cat.split('.')[3])"
      ],
      "execution_count": 9,
      "outputs": []
    },
    {
      "cell_type": "code",
      "metadata": {
        "id": "HvKZ7qMhfp-t"
      },
      "source": [
        ""
      ],
      "execution_count": 9,
      "outputs": []
    },
    {
      "cell_type": "code",
      "metadata": {
        "id": "Kr2KUyLMdMR4"
      },
      "source": [
        "def preprocess_text(text):\n",
        "    \"\"\"Preprocess text into normalised tokens.\"\"\"\n",
        "    stop_word_list = nltk.corpus.stopwords.words('russian')\n",
        "    tokeniser = RegexpTokenizer(\"[A-Za-zА-Яа-я]+\")\n",
        "    tokens = tokeniser.tokenize(text)\n",
        "    \n",
        "    # Lowercase and lemmatise\n",
        "    # morph = pymorphy2.MorphAnalyzer()\n",
        "    # tokens_norm = [morph.parse(t.lower())[0].normal_form for t in tokens]\n",
        "    # tokens_clean = [t for t in tokens_norm if t not in stop_word_list]\n",
        "    tokens_lower = [t.lower() for t in tokens]\n",
        "    tokens_clean = [t for t in tokens_lower if t not in stop_word_list]\n",
        "    return ' '.join(tokens_clean)"
      ],
      "execution_count": 10,
      "outputs": []
    },
    {
      "cell_type": "code",
      "metadata": {
        "id": "mEhcTm4qdqBL"
      },
      "source": [
        "prod['preprocessed'] = prod['product_title'].apply(preprocess_text)"
      ],
      "execution_count": 11,
      "outputs": []
    },
    {
      "cell_type": "code",
      "metadata": {
        "colab": {
          "base_uri": "https://localhost:8080/",
          "height": 0
        },
        "id": "FForgl8hfqic",
        "outputId": "29ba922b-5719-4a85-d738-afbb7228b26a"
      },
      "source": [
        "prod.head()"
      ],
      "execution_count": 12,
      "outputs": [
        {
          "output_type": "execute_result",
          "data": {
            "text/html": [
              "<div>\n",
              "<style scoped>\n",
              "    .dataframe tbody tr th:only-of-type {\n",
              "        vertical-align: middle;\n",
              "    }\n",
              "\n",
              "    .dataframe tbody tr th {\n",
              "        vertical-align: top;\n",
              "    }\n",
              "\n",
              "    .dataframe thead th {\n",
              "        text-align: right;\n",
              "    }\n",
              "</style>\n",
              "<table border=\"1\" class=\"dataframe\">\n",
              "  <thead>\n",
              "    <tr style=\"text-align: right;\">\n",
              "      <th></th>\n",
              "      <th>row_number</th>\n",
              "      <th>product_title</th>\n",
              "      <th>category_id</th>\n",
              "      <th>full_category</th>\n",
              "      <th>category_1</th>\n",
              "      <th>category_2</th>\n",
              "      <th>category_3</th>\n",
              "      <th>category_4</th>\n",
              "      <th>preprocessed</th>\n",
              "    </tr>\n",
              "  </thead>\n",
              "  <tbody>\n",
              "    <tr>\n",
              "      <th>0</th>\n",
              "      <td>1</td>\n",
              "      <td>Термокружка с животными 350/500 мл</td>\n",
              "      <td>12407</td>\n",
              "      <td>1.10018.10115.10586.12407</td>\n",
              "      <td>1</td>\n",
              "      <td>10018</td>\n",
              "      <td>10115</td>\n",
              "      <td>10586</td>\n",
              "      <td>термокружка животными мл</td>\n",
              "    </tr>\n",
              "    <tr>\n",
              "      <th>1</th>\n",
              "      <td>2</td>\n",
              "      <td>Пластиковая емкость для хранения круп</td>\n",
              "      <td>12667</td>\n",
              "      <td>1.10018.10115.10992.12667</td>\n",
              "      <td>1</td>\n",
              "      <td>10018</td>\n",
              "      <td>10115</td>\n",
              "      <td>10992</td>\n",
              "      <td>пластиковая емкость хранения круп</td>\n",
              "    </tr>\n",
              "    <tr>\n",
              "      <th>2</th>\n",
              "      <td>3</td>\n",
              "      <td>Контейнер с дозатором для хранения круп</td>\n",
              "      <td>13901</td>\n",
              "      <td>1.10018.10115.10992.13901</td>\n",
              "      <td>1</td>\n",
              "      <td>10018</td>\n",
              "      <td>10115</td>\n",
              "      <td>10992</td>\n",
              "      <td>контейнер дозатором хранения круп</td>\n",
              "    </tr>\n",
              "    <tr>\n",
              "      <th>3</th>\n",
              "      <td>4</td>\n",
              "      <td>Контейнер для хранения яиц</td>\n",
              "      <td>13674</td>\n",
              "      <td>1.10018.10115.10992.13674</td>\n",
              "      <td>1</td>\n",
              "      <td>10018</td>\n",
              "      <td>10115</td>\n",
              "      <td>10992</td>\n",
              "      <td>контейнер хранения яиц</td>\n",
              "    </tr>\n",
              "    <tr>\n",
              "      <th>4</th>\n",
              "      <td>5</td>\n",
              "      <td>Губкодержатель</td>\n",
              "      <td>13254</td>\n",
              "      <td>1.10018.10115.10390.13254</td>\n",
              "      <td>1</td>\n",
              "      <td>10018</td>\n",
              "      <td>10115</td>\n",
              "      <td>10390</td>\n",
              "      <td>губкодержатель</td>\n",
              "    </tr>\n",
              "  </tbody>\n",
              "</table>\n",
              "</div>"
            ],
            "text/plain": [
              "   row_number  ...                       preprocessed\n",
              "0           1  ...           термокружка животными мл\n",
              "1           2  ...  пластиковая емкость хранения круп\n",
              "2           3  ...  контейнер дозатором хранения круп\n",
              "3           4  ...             контейнер хранения яиц\n",
              "4           5  ...                     губкодержатель\n",
              "\n",
              "[5 rows x 9 columns]"
            ]
          },
          "metadata": {},
          "execution_count": 12
        }
      ]
    },
    {
      "cell_type": "markdown",
      "metadata": {
        "id": "fE1DviJfgGrg"
      },
      "source": [
        "#Models"
      ]
    },
    {
      "cell_type": "code",
      "metadata": {
        "id": "o5iGqtgJQJ4m"
      },
      "source": [
        "seed = 42\n",
        "def create_baseline_models():\n",
        "    \"\"\"Create list of baseline models.\"\"\"\n",
        "    models = []\n",
        "    models.append(('sgd', SGDClassifier(random_state=seed)))\n",
        "    # models.append(('mnb', MultinomialNB()))\n",
        "    # models.append(('random forest', RandomForestClassifier()))\n",
        "    # models.append(('catboost', CatBoostClassifier()))\n",
        "    return models\n",
        "def assess(X, y, models, cv=5, scoring=['accuracy', 'f1_macro', 'f1_weighted']):\n",
        "    \"\"\"Provide summary of cross validation results for models.\"\"\"\n",
        "    results = pd.DataFrame()\n",
        "    for name, model in models:\n",
        "        result = pd.DataFrame(cross_validate(model, X, y, cv=cv, \n",
        "                                             scoring=scoring))\n",
        "        mean = result.mean().rename('{}_mean'.format)\n",
        "        std = result.std().rename('{}_std'.format)\n",
        "        results[name] = pd.concat([mean, std], axis=0)\n",
        "    return results.sort_index()"
      ],
      "execution_count": 36,
      "outputs": []
    },
    {
      "cell_type": "code",
      "metadata": {
        "id": "F8rqvMOwgJUJ",
        "colab": {
          "base_uri": "https://localhost:8080/"
        },
        "outputId": "39843dd2-6a7b-42bc-87cf-7b4c22ea894e"
      },
      "source": [
        "models = create_baseline_models()\n",
        "models"
      ],
      "execution_count": 37,
      "outputs": [
        {
          "output_type": "execute_result",
          "data": {
            "text/plain": [
              "[('sgd', SGDClassifier(alpha=0.0001, average=False, class_weight=None,\n",
              "                early_stopping=False, epsilon=0.1, eta0=0.0, fit_intercept=True,\n",
              "                l1_ratio=0.15, learning_rate='optimal', loss='hinge',\n",
              "                max_iter=1000, n_iter_no_change=5, n_jobs=None, penalty='l2',\n",
              "                power_t=0.5, random_state=42, shuffle=True, tol=0.001,\n",
              "                validation_fraction=0.1, verbose=0, warm_start=False))]"
            ]
          },
          "metadata": {},
          "execution_count": 37
        }
      ]
    },
    {
      "cell_type": "markdown",
      "metadata": {
        "id": "wDB1pQd8P6Cx"
      },
      "source": [
        "# Категории второго уровня"
      ]
    },
    {
      "cell_type": "markdown",
      "metadata": {
        "id": "dI0p3St9QFio"
      },
      "source": [
        "Примерно сбалансированные классы"
      ]
    },
    {
      "cell_type": "code",
      "metadata": {
        "colab": {
          "base_uri": "https://localhost:8080/",
          "height": 0
        },
        "id": "GsG-TVB9KS5w",
        "outputId": "65dcd6fe-7843-4c61-f7f3-6c8981420286"
      },
      "source": [
        "prod.category_2.hist()"
      ],
      "execution_count": 15,
      "outputs": [
        {
          "output_type": "execute_result",
          "data": {
            "text/plain": [
              "<matplotlib.axes._subplots.AxesSubplot at 0x7f9d65fe6dd0>"
            ]
          },
          "metadata": {},
          "execution_count": 15
        },
        {
          "output_type": "display_data",
          "data": {
            "image/png": "[encoded data removed]",
            "text/plain": [
              "<Figure size 432x288 with 1 Axes>"
            ]
          },
          "metadata": {
            "needs_background": "light"
          }
        }
      ]
    },
    {
      "cell_type": "code",
      "metadata": {
        "id": "m3C_zFrZdHlI"
      },
      "source": [
        ""
      ],
      "execution_count": 15,
      "outputs": []
    },
    {
      "cell_type": "markdown",
      "metadata": {
        "id": "OVK7004ugLhb"
      },
      "source": [
        "## Feature generagion"
      ]
    },
    {
      "cell_type": "markdown",
      "metadata": {
        "id": "r8usUn5CgOAo"
      },
      "source": [
        "word to vec: dim 100"
      ]
    },
    {
      "cell_type": "code",
      "metadata": {
        "colab": {
          "base_uri": "https://localhost:8080/"
        },
        "id": "7tXWcUHRXFqL",
        "outputId": "8807c2b7-5c68-4062-bc87-1bdb3c9f6c62"
      },
      "source": [
        "w2v_model = Word2Vec(min_count=5,\n",
        "                     window=2,\n",
        "                     size=50,\n",
        "                     sample=6e-5,\n",
        "                     alpha=0.03, \n",
        "                     min_alpha=0.0007, \n",
        "                     negative=10,\n",
        "                     seed=seed)\n",
        "\n",
        "w2v_model.build_vocab(prod['preprocessed'].apply(lambda x: x.split()), progress_per=1000)\n",
        "w2v_model.train(prod['preprocessed'].apply(lambda x: x.split()), total_examples=w2v_model.corpus_count, epochs=60, report_delay=1)\n",
        "w2v_model.wv.most_similar(positive=[\"кружка\"])"
      ],
      "execution_count": 42,
      "outputs": [
        {
          "output_type": "execute_result",
          "data": {
            "text/plain": [
              "[('сувенирная', 0.7819908261299133),\n",
              " ('ъуъ', 0.7343651652336121),\n",
              " ('горячо', 0.7322636842727661),\n",
              " ('матурым', 0.7287852168083191),\n",
              " ('дайте', 0.7258269190788269),\n",
              " ('кадерле', 0.692595362663269),\n",
              " ('энием', 0.674737274646759),\n",
              " ('пивная', 0.672980546951294),\n",
              " ('рюмка', 0.6684386134147644),\n",
              " ('принтом', 0.662740170955658)]"
            ]
          },
          "metadata": {},
          "execution_count": 42
        }
      ]
    },
    {
      "cell_type": "markdown",
      "metadata": {
        "id": "5pSFZ1WhgZgL"
      },
      "source": [
        "Усредняем векторы word2veс и получаем вектор предожения"
      ]
    },
    {
      "cell_type": "code",
      "metadata": {
        "colab": {
          "base_uri": "https://localhost:8080/"
        },
        "id": "qfQBS-8qXRUR",
        "outputId": "d1230421-8f28-4e0d-f40c-62dc247c10dc"
      },
      "source": [
        "sent_emb = prod['preprocessed'].apply(\n",
        "    lambda text:\n",
        "        np.mean([w2v_model.wv[w] for w in text.split() if w in w2v_model.wv],\n",
        "                axis=0)\n",
        "              )\n",
        "y = prod['category_2'][sent_emb.notna()]\n",
        "X = sent_emb[sent_emb.notna()]\n",
        "X = np.stack(X)"
      ],
      "execution_count": 43,
      "outputs": [
        {
          "output_type": "stream",
          "name": "stderr",
          "text": [
            "/usr/local/lib/python3.7/dist-packages/numpy/core/fromnumeric.py:3373: RuntimeWarning: Mean of empty slice.\n",
            "  out=out, **kwargs)\n"
          ]
        }
      ]
    },
    {
      "cell_type": "code",
      "metadata": {
        "colab": {
          "base_uri": "https://localhost:8080/"
        },
        "id": "HwjaG_p1eaNh",
        "outputId": "03203979-22a9-4678-feb4-c17e2aa2a6a0"
      },
      "source": [
        "X.shape"
      ],
      "execution_count": 44,
      "outputs": [
        {
          "output_type": "execute_result",
          "data": {
            "text/plain": [
              "(143994, 50)"
            ]
          },
          "metadata": {},
          "execution_count": 44
        }
      ]
    },
    {
      "cell_type": "code",
      "metadata": {
        "id": "mcvLsZLsRy2C"
      },
      "source": [
        "# vectoriser = TfidfVectorizer(token_pattern=r'[A-Za-zА-Яа-я]+', \n",
        "#                              min_df=30)\n",
        "# X_train_tfidf = vectoriser.fit_transform(prod['product_title'])"
      ],
      "execution_count": 45,
      "outputs": []
    },
    {
      "cell_type": "markdown",
      "metadata": {
        "id": "4RlCZ7CvgwRF"
      },
      "source": [
        "## Средняя accuracy по кросс валидации ~ 0.96"
      ]
    },
    {
      "cell_type": "code",
      "metadata": {
        "colab": {
          "base_uri": "https://localhost:8080/"
        },
        "id": "O9Pbj2l_R4Bb",
        "outputId": "cf5556d8-6b68-4185-95ef-20c9a49c16a9"
      },
      "source": [
        "%time\n",
        "results = assess(X, y, models)"
      ],
      "execution_count": 46,
      "outputs": [
        {
          "output_type": "stream",
          "name": "stdout",
          "text": [
            "CPU times: user 3 µs, sys: 0 ns, total: 3 µs\n",
            "Wall time: 5.01 µs\n"
          ]
        }
      ]
    },
    {
      "cell_type": "code",
      "metadata": {
        "colab": {
          "base_uri": "https://localhost:8080/",
          "height": 0
        },
        "id": "exJqPnvUe4ke",
        "outputId": "1f35ba8d-9436-4d1f-973b-2c1fc72c2e27"
      },
      "source": [
        "results.iloc[4:]"
      ],
      "execution_count": 47,
      "outputs": [
        {
          "output_type": "execute_result",
          "data": {
            "text/html": [
              "<div>\n",
              "<style scoped>\n",
              "    .dataframe tbody tr th:only-of-type {\n",
              "        vertical-align: middle;\n",
              "    }\n",
              "\n",
              "    .dataframe tbody tr th {\n",
              "        vertical-align: top;\n",
              "    }\n",
              "\n",
              "    .dataframe thead th {\n",
              "        text-align: right;\n",
              "    }\n",
              "</style>\n",
              "<table border=\"1\" class=\"dataframe\">\n",
              "  <thead>\n",
              "    <tr style=\"text-align: right;\">\n",
              "      <th></th>\n",
              "      <th>sgd</th>\n",
              "    </tr>\n",
              "  </thead>\n",
              "  <tbody>\n",
              "    <tr>\n",
              "      <th>test_accuracy_mean</th>\n",
              "      <td>0.958609</td>\n",
              "    </tr>\n",
              "    <tr>\n",
              "      <th>test_accuracy_std</th>\n",
              "      <td>0.003656</td>\n",
              "    </tr>\n",
              "    <tr>\n",
              "      <th>test_f1_macro_mean</th>\n",
              "      <td>0.957147</td>\n",
              "    </tr>\n",
              "    <tr>\n",
              "      <th>test_f1_macro_std</th>\n",
              "      <td>0.003669</td>\n",
              "    </tr>\n",
              "    <tr>\n",
              "      <th>test_f1_weighted_mean</th>\n",
              "      <td>0.958614</td>\n",
              "    </tr>\n",
              "    <tr>\n",
              "      <th>test_f1_weighted_std</th>\n",
              "      <td>0.003651</td>\n",
              "    </tr>\n",
              "  </tbody>\n",
              "</table>\n",
              "</div>"
            ],
            "text/plain": [
              "                            sgd\n",
              "test_accuracy_mean     0.958609\n",
              "test_accuracy_std      0.003656\n",
              "test_f1_macro_mean     0.957147\n",
              "test_f1_macro_std      0.003669\n",
              "test_f1_weighted_mean  0.958614\n",
              "test_f1_weighted_std   0.003651"
            ]
          },
          "metadata": {},
          "execution_count": 47
        }
      ]
    },
    {
      "cell_type": "markdown",
      "metadata": {
        "id": "DktvQhP8hJ_Q"
      },
      "source": [
        "# Категории третьего уровня"
      ]
    },
    {
      "cell_type": "markdown",
      "metadata": {
        "id": "4nG4mjh4PEJs"
      },
      "source": [
        "Так как классы не сбалансированные, лучше смотреть на метрики f1"
      ]
    },
    {
      "cell_type": "code",
      "metadata": {
        "colab": {
          "base_uri": "https://localhost:8080/",
          "height": 0
        },
        "id": "4TbHyKGhgvBe",
        "outputId": "2b397914-6972-497d-cee8-374ddc5ca7e1"
      },
      "source": [
        "prod.category_3.hist()"
      ],
      "execution_count": 48,
      "outputs": [
        {
          "output_type": "execute_result",
          "data": {
            "text/plain": [
              "<matplotlib.axes._subplots.AxesSubplot at 0x7f9d1e97df90>"
            ]
          },
          "metadata": {},
          "execution_count": 48
        },
        {
          "output_type": "display_data",
          "data": {
            "image/png": "[encoded data removed]",
            "text/plain": [
              "<Figure size 432x288 with 1 Axes>"
            ]
          },
          "metadata": {
            "needs_background": "light"
          }
        }
      ]
    },
    {
      "cell_type": "code",
      "metadata": {
        "colab": {
          "base_uri": "https://localhost:8080/"
        },
        "id": "M0WFlthahL1J",
        "outputId": "f2280255-b4f8-4701-d9e0-95594b0ac290"
      },
      "source": [
        "len(prod.category_3.unique())"
      ],
      "execution_count": 49,
      "outputs": [
        {
          "output_type": "execute_result",
          "data": {
            "text/plain": [
              "37"
            ]
          },
          "metadata": {},
          "execution_count": 49
        }
      ]
    },
    {
      "cell_type": "code",
      "metadata": {
        "id": "4TDqCV_WhlHV"
      },
      "source": [
        "y = prod['category_3'][sent_emb.notna()]"
      ],
      "execution_count": 50,
      "outputs": []
    },
    {
      "cell_type": "markdown",
      "metadata": {
        "id": "GXEEXY_siQyJ"
      },
      "source": [
        "##Средняя accuracy по кросс валидации ~ 0.86 & f1_weighted ~ 0.83"
      ]
    },
    {
      "cell_type": "code",
      "metadata": {
        "colab": {
          "base_uri": "https://localhost:8080/"
        },
        "id": "BrWE3Oo-hs_m",
        "outputId": "3b9f4282-efba-4d3d-ae97-d26011aa33be"
      },
      "source": [
        "%time\n",
        "results = assess(X, y, models)"
      ],
      "execution_count": 51,
      "outputs": [
        {
          "output_type": "stream",
          "name": "stdout",
          "text": [
            "CPU times: user 0 ns, sys: 4 µs, total: 4 µs\n",
            "Wall time: 24.1 µs\n"
          ]
        },
        {
          "output_type": "stream",
          "name": "stderr",
          "text": [
            "/usr/local/lib/python3.7/dist-packages/sklearn/model_selection/_split.py:667: UserWarning: The least populated class in y has only 4 members, which is less than n_splits=5.\n",
            "  % (min_groups, self.n_splits)), UserWarning)\n"
          ]
        }
      ]
    },
    {
      "cell_type": "code",
      "metadata": {
        "colab": {
          "base_uri": "https://localhost:8080/",
          "height": 0
        },
        "id": "7Jprffynhv72",
        "outputId": "6fbb3dcc-de7e-41bf-db83-e64bc4c00a5e"
      },
      "source": [
        "results.iloc[4:]"
      ],
      "execution_count": 52,
      "outputs": [
        {
          "output_type": "execute_result",
          "data": {
            "text/html": [
              "<div>\n",
              "<style scoped>\n",
              "    .dataframe tbody tr th:only-of-type {\n",
              "        vertical-align: middle;\n",
              "    }\n",
              "\n",
              "    .dataframe tbody tr th {\n",
              "        vertical-align: top;\n",
              "    }\n",
              "\n",
              "    .dataframe thead th {\n",
              "        text-align: right;\n",
              "    }\n",
              "</style>\n",
              "<table border=\"1\" class=\"dataframe\">\n",
              "  <thead>\n",
              "    <tr style=\"text-align: right;\">\n",
              "      <th></th>\n",
              "      <th>sgd</th>\n",
              "    </tr>\n",
              "  </thead>\n",
              "  <tbody>\n",
              "    <tr>\n",
              "      <th>test_accuracy_mean</th>\n",
              "      <td>0.842007</td>\n",
              "    </tr>\n",
              "    <tr>\n",
              "      <th>test_accuracy_std</th>\n",
              "      <td>0.005717</td>\n",
              "    </tr>\n",
              "    <tr>\n",
              "      <th>test_f1_macro_mean</th>\n",
              "      <td>0.579568</td>\n",
              "    </tr>\n",
              "    <tr>\n",
              "      <th>test_f1_macro_std</th>\n",
              "      <td>0.009437</td>\n",
              "    </tr>\n",
              "    <tr>\n",
              "      <th>test_f1_weighted_mean</th>\n",
              "      <td>0.834853</td>\n",
              "    </tr>\n",
              "    <tr>\n",
              "      <th>test_f1_weighted_std</th>\n",
              "      <td>0.005871</td>\n",
              "    </tr>\n",
              "  </tbody>\n",
              "</table>\n",
              "</div>"
            ],
            "text/plain": [
              "                            sgd\n",
              "test_accuracy_mean     0.842007\n",
              "test_accuracy_std      0.005717\n",
              "test_f1_macro_mean     0.579568\n",
              "test_f1_macro_std      0.009437\n",
              "test_f1_weighted_mean  0.834853\n",
              "test_f1_weighted_std   0.005871"
            ]
          },
          "metadata": {},
          "execution_count": 52
        }
      ]
    },
    {
      "cell_type": "markdown",
      "metadata": {
        "id": "WZ9RxyoZiu6N"
      },
      "source": [
        "## Проверка гипотизы: \"Правильное предсказание более высокого уровня поможет при предсказании нижнего\""
      ]
    },
    {
      "cell_type": "markdown",
      "metadata": {
        "id": "BtW7iRdSjaYh"
      },
      "source": [
        "Добавим категории второго уровня в признаки при предсказании третьего"
      ]
    },
    {
      "cell_type": "code",
      "metadata": {
        "id": "2GxCK2kgjLYJ"
      },
      "source": [
        "level2_categories = prod[sent_emb.notna()].category_2.values"
      ],
      "execution_count": 53,
      "outputs": []
    },
    {
      "cell_type": "code",
      "metadata": {
        "colab": {
          "base_uri": "https://localhost:8080/"
        },
        "id": "cHijIQlhqw89",
        "outputId": "a4d47c9d-93ad-4eea-9380-2099eeda26c9"
      },
      "source": [
        "level2_categories"
      ],
      "execution_count": 54,
      "outputs": [
        {
          "output_type": "execute_result",
          "data": {
            "text/plain": [
              "array(['10018', '10018', '10018', ..., '10020', '10018', '10020'],\n",
              "      dtype=object)"
            ]
          },
          "metadata": {},
          "execution_count": 54
        }
      ]
    },
    {
      "cell_type": "code",
      "metadata": {
        "colab": {
          "base_uri": "https://localhost:8080/"
        },
        "id": "qiuuoOBwqzG1",
        "outputId": "669a7a9c-ceb7-471c-b442-785a07e41297"
      },
      "source": [
        "y"
      ],
      "execution_count": 55,
      "outputs": [
        {
          "output_type": "execute_result",
          "data": {
            "text/plain": [
              "0         10115\n",
              "1         10115\n",
              "2         10115\n",
              "3         10115\n",
              "4         10115\n",
              "          ...  \n",
              "144077    10113\n",
              "144078    10044\n",
              "144079    10044\n",
              "144080    10049\n",
              "144081    10044\n",
              "Name: category_3, Length: 143994, dtype: object"
            ]
          },
          "metadata": {},
          "execution_count": 55
        }
      ]
    },
    {
      "cell_type": "code",
      "metadata": {
        "id": "mTpgQpZqjhsE"
      },
      "source": [
        "level2_categories = level2_categories.reshape(-1, 1)"
      ],
      "execution_count": 56,
      "outputs": []
    },
    {
      "cell_type": "code",
      "metadata": {
        "id": "KLDNsJiFi-rv"
      },
      "source": [
        "extended_X = np.hstack([X, level2_categories])"
      ],
      "execution_count": 57,
      "outputs": []
    },
    {
      "cell_type": "markdown",
      "metadata": {
        "id": "tcthuNDbEZ0R"
      },
      "source": [
        "## accuracy "
      ]
    },
    {
      "cell_type": "code",
      "metadata": {
        "colab": {
          "base_uri": "https://localhost:8080/"
        },
        "id": "GbaYM1-qkL89",
        "outputId": "c4d54299-90b3-43af-a17f-d8a5bedb545e"
      },
      "source": [
        "%time\n",
        "results = assess(StandardScaler().fit_transform(extended_X), y, models)"
      ],
      "execution_count": 58,
      "outputs": [
        {
          "output_type": "stream",
          "name": "stdout",
          "text": [
            "CPU times: user 5 µs, sys: 0 ns, total: 5 µs\n",
            "Wall time: 40.8 µs\n"
          ]
        },
        {
          "output_type": "stream",
          "name": "stderr",
          "text": [
            "/usr/local/lib/python3.7/dist-packages/sklearn/model_selection/_split.py:667: UserWarning: The least populated class in y has only 4 members, which is less than n_splits=5.\n",
            "  % (min_groups, self.n_splits)), UserWarning)\n"
          ]
        }
      ]
    },
    {
      "cell_type": "code",
      "metadata": {
        "colab": {
          "base_uri": "https://localhost:8080/",
          "height": 0
        },
        "id": "OW6m-8EHj8xT",
        "outputId": "0b5fd2eb-7c20-40b6-8a5b-09f712cefaa1"
      },
      "source": [
        "results.iloc[4:]"
      ],
      "execution_count": 59,
      "outputs": [
        {
          "output_type": "execute_result",
          "data": {
            "text/html": [
              "<div>\n",
              "<style scoped>\n",
              "    .dataframe tbody tr th:only-of-type {\n",
              "        vertical-align: middle;\n",
              "    }\n",
              "\n",
              "    .dataframe tbody tr th {\n",
              "        vertical-align: top;\n",
              "    }\n",
              "\n",
              "    .dataframe thead th {\n",
              "        text-align: right;\n",
              "    }\n",
              "</style>\n",
              "<table border=\"1\" class=\"dataframe\">\n",
              "  <thead>\n",
              "    <tr style=\"text-align: right;\">\n",
              "      <th></th>\n",
              "      <th>sgd</th>\n",
              "    </tr>\n",
              "  </thead>\n",
              "  <tbody>\n",
              "    <tr>\n",
              "      <th>test_accuracy_mean</th>\n",
              "      <td>0.845987</td>\n",
              "    </tr>\n",
              "    <tr>\n",
              "      <th>test_accuracy_std</th>\n",
              "      <td>0.004297</td>\n",
              "    </tr>\n",
              "    <tr>\n",
              "      <th>test_f1_macro_mean</th>\n",
              "      <td>0.567095</td>\n",
              "    </tr>\n",
              "    <tr>\n",
              "      <th>test_f1_macro_std</th>\n",
              "      <td>0.009733</td>\n",
              "    </tr>\n",
              "    <tr>\n",
              "      <th>test_f1_weighted_mean</th>\n",
              "      <td>0.839836</td>\n",
              "    </tr>\n",
              "    <tr>\n",
              "      <th>test_f1_weighted_std</th>\n",
              "      <td>0.003585</td>\n",
              "    </tr>\n",
              "  </tbody>\n",
              "</table>\n",
              "</div>"
            ],
            "text/plain": [
              "                            sgd\n",
              "test_accuracy_mean     0.845987\n",
              "test_accuracy_std      0.004297\n",
              "test_f1_macro_mean     0.567095\n",
              "test_f1_macro_std      0.009733\n",
              "test_f1_weighted_mean  0.839836\n",
              "test_f1_weighted_std   0.003585"
            ]
          },
          "metadata": {},
          "execution_count": 59
        }
      ]
    },
    {
      "cell_type": "markdown",
      "metadata": {
        "id": "5MDlHsPbPi8Y"
      },
      "source": [
        "## catboost"
      ]
    },
    {
      "cell_type": "code",
      "metadata": {
        "colab": {
          "base_uri": "https://localhost:8080/"
        },
        "id": "PV2mNAFBtK4y",
        "outputId": "112a19fd-f002-4daa-d9cb-229e73e39471"
      },
      "source": [
        "!pip install catboost"
      ],
      "execution_count": 30,
      "outputs": [
        {
          "output_type": "stream",
          "name": "stdout",
          "text": [
            "Collecting catboost\n",
            "  Downloading catboost-0.26.1-cp37-none-manylinux1_x86_64.whl (67.4 MB)\n",
            "\u001b[K     |████████████████████████████████| 67.4 MB 31 kB/s \n",
            "\u001b[?25hRequirement already satisfied: plotly in /usr/local/lib/python3.7/dist-packages (from catboost) (4.4.1)\n",
            "Requirement already satisfied: numpy>=1.16.0 in /usr/local/lib/python3.7/dist-packages (from catboost) (1.19.5)\n",
            "Requirement already satisfied: six in /usr/local/lib/python3.7/dist-packages (from catboost) (1.15.0)\n",
            "Requirement already satisfied: matplotlib in /usr/local/lib/python3.7/dist-packages (from catboost) (3.2.2)\n",
            "Requirement already satisfied: graphviz in /usr/local/lib/python3.7/dist-packages (from catboost) (0.10.1)\n",
            "Requirement already satisfied: scipy in /usr/local/lib/python3.7/dist-packages (from catboost) (1.4.1)\n",
            "Requirement already satisfied: pandas>=0.24.0 in /usr/local/lib/python3.7/dist-packages (from catboost) (1.1.5)\n",
            "Requirement already satisfied: python-dateutil>=2.7.3 in /usr/local/lib/python3.7/dist-packages (from pandas>=0.24.0->catboost) (2.8.2)\n",
            "Requirement already satisfied: pytz>=2017.2 in /usr/local/lib/python3.7/dist-packages (from pandas>=0.24.0->catboost) (2018.9)\n",
            "Requirement already satisfied: pyparsing!=2.0.4,!=2.1.2,!=2.1.6,>=2.0.1 in /usr/local/lib/python3.7/dist-packages (from matplotlib->catboost) (2.4.7)\n",
            "Requirement already satisfied: cycler>=0.10 in /usr/local/lib/python3.7/dist-packages (from matplotlib->catboost) (0.10.0)\n",
            "Requirement already satisfied: kiwisolver>=1.0.1 in /usr/local/lib/python3.7/dist-packages (from matplotlib->catboost) (1.3.1)\n",
            "Requirement already satisfied: retrying>=1.3.3 in /usr/local/lib/python3.7/dist-packages (from plotly->catboost) (1.3.3)\n",
            "Installing collected packages: catboost\n",
            "Successfully installed catboost-0.26.1\n"
          ]
        }
      ]
    },
    {
      "cell_type": "code",
      "metadata": {
        "colab": {
          "base_uri": "https://localhost:8080/"
        },
        "id": "siARIZaOtXQt",
        "outputId": "135f983c-f4f7-4e07-b700-e27fc14bd410"
      },
      "source": [
        "from catboost import Pool, CatBoostClassifier\n",
        "\n",
        "from sklearn.model_selection import train_test_split\n",
        "X_train, X_test, y_train, y_test = train_test_split(extended_X, y,\n",
        "                                                    stratify=y, \n",
        "                                                    test_size=0.25)\n",
        "\n",
        "cat_features = [50]\n",
        "\n",
        "\n",
        "\n",
        "\n",
        "train_dataset = Pool(data=X_train,\n",
        "                     label=y_train,\n",
        "                     cat_features=cat_features)\n",
        "\n",
        "eval_dataset = Pool(data=X_test,\n",
        "                    label=y_test,\n",
        "                    cat_features=cat_features)\n",
        "\n",
        "# Initialize CatBoostClassifier\n",
        "model = CatBoostClassifier(\n",
        "                           learning_rate=0.1,\n",
        "                           depth=2,\n",
        "                           loss_function='MultiClass',\n",
        "                           custom_metric='TotalF1',\n",
        "                           eval_metric='TotalF1')\n",
        "# Fit model\n",
        "model.fit(train_dataset, eval_set=eval_dataset)\n",
        "# Get predicted classes\n"
      ],
      "execution_count": null,
      "outputs": [
        {
          "output_type": "stream",
          "name": "stderr",
          "text": [
            "Custom logger is already specified. Specify more than one logger at same time is not thread safe."
          ]
        },
        {
          "output_type": "stream",
          "name": "stdout",
          "text": [
            "0:\tlearn: 0.2568505\ttest: 0.2557520\tbest: 0.2557520 (0)\ttotal: 3.64s\tremaining: 1h 33s\n",
            "1:\tlearn: 0.2583980\ttest: 0.2571182\tbest: 0.2571182 (1)\ttotal: 7.17s\tremaining: 59m 39s\n",
            "2:\tlearn: 0.2840051\ttest: 0.2825238\tbest: 0.2825238 (2)\ttotal: 10.8s\tremaining: 59m 34s\n",
            "3:\tlearn: 0.3440121\ttest: 0.3408622\tbest: 0.3408622 (3)\ttotal: 14.2s\tremaining: 59m 1s\n",
            "4:\tlearn: 0.3441816\ttest: 0.3419900\tbest: 0.3419900 (4)\ttotal: 17.7s\tremaining: 58m 40s\n",
            "5:\tlearn: 0.3829942\ttest: 0.3797354\tbest: 0.3797354 (5)\ttotal: 21.2s\tremaining: 58m 35s\n",
            "6:\tlearn: 0.3896082\ttest: 0.3871772\tbest: 0.3871772 (6)\ttotal: 23.8s\tremaining: 56m 11s\n",
            "7:\tlearn: 0.3948577\ttest: 0.3920409\tbest: 0.3920409 (7)\ttotal: 26.3s\tremaining: 54m 19s\n",
            "8:\tlearn: 0.4033134\ttest: 0.4000998\tbest: 0.4000998 (8)\ttotal: 28.8s\tremaining: 52m 56s\n",
            "9:\tlearn: 0.4086393\ttest: 0.4065744\tbest: 0.4065744 (9)\ttotal: 31.4s\tremaining: 51m 49s\n",
            "10:\tlearn: 0.4192479\ttest: 0.4171938\tbest: 0.4171938 (10)\ttotal: 34s\tremaining: 50m 54s\n",
            "11:\tlearn: 0.4245842\ttest: 0.4230273\tbest: 0.4230273 (11)\ttotal: 36.6s\tremaining: 50m 10s\n",
            "12:\tlearn: 0.4300372\ttest: 0.4297334\tbest: 0.4297334 (12)\ttotal: 39.1s\tremaining: 49m 30s\n",
            "13:\tlearn: 0.4365583\ttest: 0.4359197\tbest: 0.4359197 (13)\ttotal: 41.7s\tremaining: 48m 55s\n",
            "14:\tlearn: 0.4447870\ttest: 0.4441228\tbest: 0.4441228 (14)\ttotal: 44.3s\tremaining: 48m 27s\n",
            "15:\tlearn: 0.4498709\ttest: 0.4486524\tbest: 0.4486524 (15)\ttotal: 46.8s\tremaining: 47m 59s\n",
            "16:\tlearn: 0.4477571\ttest: 0.4470327\tbest: 0.4486524 (15)\ttotal: 50.2s\tremaining: 48m 22s\n",
            "17:\tlearn: 0.4500148\ttest: 0.4495081\tbest: 0.4495081 (17)\ttotal: 53.6s\tremaining: 48m 44s\n",
            "18:\tlearn: 0.4538768\ttest: 0.4528920\tbest: 0.4528920 (18)\ttotal: 57s\tremaining: 49m 4s\n",
            "19:\tlearn: 0.4642928\ttest: 0.4638976\tbest: 0.4638976 (19)\ttotal: 1m\tremaining: 49m 19s\n",
            "20:\tlearn: 0.4752180\ttest: 0.4741055\tbest: 0.4741055 (20)\ttotal: 1m 3s\tremaining: 49m 33s\n",
            "21:\tlearn: 0.4792987\ttest: 0.4794040\tbest: 0.4794040 (21)\ttotal: 1m 7s\tremaining: 49m 46s\n",
            "22:\tlearn: 0.4931097\ttest: 0.4935162\tbest: 0.4935162 (22)\ttotal: 1m 10s\tremaining: 49m 55s\n",
            "23:\tlearn: 0.5019673\ttest: 0.5012484\tbest: 0.5012484 (23)\ttotal: 1m 13s\tremaining: 50m 4s\n",
            "24:\tlearn: 0.5208881\ttest: 0.5209631\tbest: 0.5209631 (24)\ttotal: 1m 17s\tremaining: 50m 15s\n",
            "25:\tlearn: 0.5256997\ttest: 0.5255544\tbest: 0.5255544 (25)\ttotal: 1m 20s\tremaining: 50m 24s\n",
            "26:\tlearn: 0.5341223\ttest: 0.5351486\tbest: 0.5351486 (26)\ttotal: 1m 24s\tremaining: 50m 29s\n",
            "27:\tlearn: 0.5439762\ttest: 0.5448505\tbest: 0.5448505 (27)\ttotal: 1m 27s\tremaining: 50m 35s\n",
            "28:\tlearn: 0.5473454\ttest: 0.5481789\tbest: 0.5481789 (28)\ttotal: 1m 30s\tremaining: 50m 40s\n",
            "29:\tlearn: 0.5552888\ttest: 0.5554835\tbest: 0.5554835 (29)\ttotal: 1m 34s\tremaining: 50m 46s\n",
            "30:\tlearn: 0.5646882\ttest: 0.5635334\tbest: 0.5635334 (30)\ttotal: 1m 37s\tremaining: 50m 51s\n",
            "31:\tlearn: 0.5673842\ttest: 0.5661830\tbest: 0.5661830 (31)\ttotal: 1m 40s\tremaining: 50m 54s\n",
            "32:\tlearn: 0.5716089\ttest: 0.5709237\tbest: 0.5709237 (32)\ttotal: 1m 44s\tremaining: 50m 57s\n",
            "33:\tlearn: 0.5778325\ttest: 0.5786547\tbest: 0.5786547 (33)\ttotal: 1m 47s\tremaining: 51m 1s\n",
            "34:\tlearn: 0.5807524\ttest: 0.5808286\tbest: 0.5808286 (34)\ttotal: 1m 51s\tremaining: 51m 5s\n",
            "35:\tlearn: 0.5829635\ttest: 0.5830719\tbest: 0.5830719 (35)\ttotal: 1m 54s\tremaining: 51m 8s\n",
            "36:\tlearn: 0.5903486\ttest: 0.5902466\tbest: 0.5902466 (36)\ttotal: 1m 57s\tremaining: 51m 10s\n",
            "37:\tlearn: 0.5931845\ttest: 0.5938317\tbest: 0.5938317 (37)\ttotal: 2m 1s\tremaining: 51m 14s\n",
            "38:\tlearn: 0.5985631\ttest: 0.5988010\tbest: 0.5988010 (38)\ttotal: 2m 4s\tremaining: 51m 18s\n",
            "39:\tlearn: 0.6007193\ttest: 0.6014124\tbest: 0.6014124 (39)\ttotal: 2m 8s\tremaining: 51m 21s\n",
            "40:\tlearn: 0.6091510\ttest: 0.6097821\tbest: 0.6097821 (40)\ttotal: 2m 11s\tremaining: 51m 21s\n",
            "41:\tlearn: 0.6125106\ttest: 0.6133327\tbest: 0.6133327 (41)\ttotal: 2m 15s\tremaining: 51m 23s\n",
            "42:\tlearn: 0.6151890\ttest: 0.6163812\tbest: 0.6163812 (42)\ttotal: 2m 18s\tremaining: 51m 24s\n",
            "43:\tlearn: 0.6184222\ttest: 0.6195797\tbest: 0.6195797 (43)\ttotal: 2m 22s\tremaining: 51m 26s\n",
            "44:\tlearn: 0.6241890\ttest: 0.6248718\tbest: 0.6248718 (44)\ttotal: 2m 25s\tremaining: 51m 26s\n",
            "45:\tlearn: 0.6278948\ttest: 0.6278656\tbest: 0.6278656 (45)\ttotal: 2m 28s\tremaining: 51m 26s\n",
            "46:\tlearn: 0.6323906\ttest: 0.6316585\tbest: 0.6316585 (46)\ttotal: 2m 32s\tremaining: 51m 25s\n",
            "47:\tlearn: 0.6369482\ttest: 0.6363179\tbest: 0.6363179 (47)\ttotal: 2m 35s\tremaining: 51m 24s\n",
            "48:\tlearn: 0.6433366\ttest: 0.6417514\tbest: 0.6417514 (48)\ttotal: 2m 38s\tremaining: 51m 25s\n",
            "49:\tlearn: 0.6469452\ttest: 0.6461601\tbest: 0.6461601 (49)\ttotal: 2m 42s\tremaining: 51m 25s\n",
            "50:\tlearn: 0.6515992\ttest: 0.6512394\tbest: 0.6512394 (50)\ttotal: 2m 45s\tremaining: 51m 25s\n",
            "51:\tlearn: 0.6549786\ttest: 0.6550717\tbest: 0.6550717 (51)\ttotal: 2m 49s\tremaining: 51m 24s\n",
            "52:\tlearn: 0.6574882\ttest: 0.6572948\tbest: 0.6572948 (52)\ttotal: 2m 52s\tremaining: 51m 23s\n",
            "53:\tlearn: 0.6615820\ttest: 0.6608430\tbest: 0.6608430 (53)\ttotal: 2m 55s\tremaining: 51m 22s\n",
            "54:\tlearn: 0.6662026\ttest: 0.6650811\tbest: 0.6650811 (54)\ttotal: 2m 59s\tremaining: 51m 21s\n",
            "55:\tlearn: 0.6705865\ttest: 0.6707886\tbest: 0.6707886 (55)\ttotal: 3m 2s\tremaining: 51m 20s\n",
            "56:\tlearn: 0.6744682\ttest: 0.6751615\tbest: 0.6751615 (56)\ttotal: 3m 6s\tremaining: 51m 20s\n",
            "58:\tlearn: 0.6787272\ttest: 0.6802188\tbest: 0.6802188 (58)\ttotal: 3m 13s\tremaining: 51m 18s\n",
            "59:\tlearn: 0.6825456\ttest: 0.6843304\tbest: 0.6843304 (59)\ttotal: 3m 16s\tremaining: 51m 17s\n",
            "60:\tlearn: 0.6870401\ttest: 0.6884953\tbest: 0.6884953 (60)\ttotal: 3m 19s\tremaining: 51m 15s\n",
            "61:\tlearn: 0.6927339\ttest: 0.6936437\tbest: 0.6936437 (61)\ttotal: 3m 23s\tremaining: 51m 15s\n",
            "62:\tlearn: 0.6950235\ttest: 0.6959648\tbest: 0.6959648 (62)\ttotal: 3m 26s\tremaining: 51m 14s\n",
            "63:\tlearn: 0.6975922\ttest: 0.6985631\tbest: 0.6985631 (63)\ttotal: 3m 30s\tremaining: 51m 12s\n",
            "64:\tlearn: 0.7002676\ttest: 0.7018915\tbest: 0.7018915 (64)\ttotal: 3m 33s\tremaining: 51m 10s\n",
            "65:\tlearn: 0.7023142\ttest: 0.7029867\tbest: 0.7029867 (65)\ttotal: 3m 36s\tremaining: 51m 8s\n",
            "66:\tlearn: 0.7047889\ttest: 0.7049968\tbest: 0.7049968 (66)\ttotal: 3m 40s\tremaining: 51m 6s\n",
            "67:\tlearn: 0.7073089\ttest: 0.7073805\tbest: 0.7073805 (67)\ttotal: 3m 43s\tremaining: 51m 4s\n",
            "68:\tlearn: 0.7108606\ttest: 0.7105684\tbest: 0.7105684 (68)\ttotal: 3m 47s\tremaining: 51m 4s\n",
            "69:\tlearn: 0.7123707\ttest: 0.7129895\tbest: 0.7129895 (69)\ttotal: 3m 50s\tremaining: 51m 3s\n",
            "70:\tlearn: 0.7140929\ttest: 0.7133341\tbest: 0.7133341 (70)\ttotal: 3m 54s\tremaining: 51m 2s\n",
            "71:\tlearn: 0.7161697\ttest: 0.7156869\tbest: 0.7156869 (71)\ttotal: 3m 57s\tremaining: 51m 1s\n",
            "72:\tlearn: 0.7198840\ttest: 0.7198031\tbest: 0.7198031 (72)\ttotal: 4m\tremaining: 50m 58s\n",
            "73:\tlearn: 0.7218740\ttest: 0.7214840\tbest: 0.7214840 (73)\ttotal: 4m 4s\tremaining: 50m 56s\n",
            "74:\tlearn: 0.7242624\ttest: 0.7237156\tbest: 0.7237156 (74)\ttotal: 4m 7s\tremaining: 50m 54s\n",
            "75:\tlearn: 0.7266354\ttest: 0.7264868\tbest: 0.7264868 (75)\ttotal: 4m 11s\tremaining: 50m 52s\n",
            "76:\tlearn: 0.7277260\ttest: 0.7277204\tbest: 0.7277204 (76)\ttotal: 4m 14s\tremaining: 50m 50s\n",
            "77:\tlearn: 0.7292965\ttest: 0.7300282\tbest: 0.7300282 (77)\ttotal: 4m 18s\tremaining: 50m 49s\n",
            "78:\tlearn: 0.7332144\ttest: 0.7331483\tbest: 0.7331483 (78)\ttotal: 4m 21s\tremaining: 50m 48s\n",
            "79:\tlearn: 0.7349819\ttest: 0.7346855\tbest: 0.7346855 (79)\ttotal: 4m 24s\tremaining: 50m 45s\n",
            "80:\tlearn: 0.7351961\ttest: 0.7352052\tbest: 0.7352052 (80)\ttotal: 4m 28s\tremaining: 50m 44s\n",
            "81:\tlearn: 0.7374772\ttest: 0.7382708\tbest: 0.7382708 (81)\ttotal: 4m 31s\tremaining: 50m 41s\n",
            "82:\tlearn: 0.7401841\ttest: 0.7409376\tbest: 0.7409376 (82)\ttotal: 4m 35s\tremaining: 50m 40s\n",
            "83:\tlearn: 0.7420312\ttest: 0.7433619\tbest: 0.7433619 (83)\ttotal: 4m 38s\tremaining: 50m 37s\n",
            "84:\tlearn: 0.7431271\ttest: 0.7446350\tbest: 0.7446350 (84)\ttotal: 4m 42s\tremaining: 50m 36s\n",
            "85:\tlearn: 0.7445425\ttest: 0.7463057\tbest: 0.7463057 (85)\ttotal: 4m 45s\tremaining: 50m 35s\n",
            "86:\tlearn: 0.7462371\ttest: 0.7471890\tbest: 0.7471890 (86)\ttotal: 4m 49s\tremaining: 50m 33s\n",
            "87:\tlearn: 0.7477845\ttest: 0.7493385\tbest: 0.7493385 (87)\ttotal: 4m 52s\tremaining: 50m 31s\n",
            "88:\tlearn: 0.7504199\ttest: 0.7517959\tbest: 0.7517959 (88)\ttotal: 4m 55s\tremaining: 50m 29s\n",
            "89:\tlearn: 0.7510737\ttest: 0.7524514\tbest: 0.7524514 (89)\ttotal: 4m 59s\tremaining: 50m 26s\n",
            "90:\tlearn: 0.7527076\ttest: 0.7549324\tbest: 0.7549324 (90)\ttotal: 5m 2s\tremaining: 50m 24s\n",
            "91:\tlearn: 0.7544236\ttest: 0.7565377\tbest: 0.7565377 (91)\ttotal: 5m 6s\tremaining: 50m 22s\n",
            "92:\tlearn: 0.7552690\ttest: 0.7570577\tbest: 0.7570577 (92)\ttotal: 5m 9s\tremaining: 50m 19s\n",
            "93:\tlearn: 0.7570619\ttest: 0.7585782\tbest: 0.7585782 (93)\ttotal: 5m 13s\tremaining: 50m 18s\n",
            "94:\tlearn: 0.7576448\ttest: 0.7592195\tbest: 0.7592195 (94)\ttotal: 5m 16s\tremaining: 50m 15s\n",
            "95:\tlearn: 0.7582577\ttest: 0.7600235\tbest: 0.7600235 (95)\ttotal: 5m 19s\tremaining: 50m 12s\n",
            "96:\tlearn: 0.7588821\ttest: 0.7602625\tbest: 0.7602625 (96)\ttotal: 5m 23s\tremaining: 50m 9s\n",
            "97:\tlearn: 0.7604412\ttest: 0.7621574\tbest: 0.7621574 (97)\ttotal: 5m 26s\tremaining: 50m 6s\n",
            "98:\tlearn: 0.7620594\ttest: 0.7638654\tbest: 0.7638654 (98)\ttotal: 5m 30s\tremaining: 50m 3s\n",
            "99:\tlearn: 0.7631023\ttest: 0.7651043\tbest: 0.7651043 (99)\ttotal: 5m 33s\tremaining: 50m 2s\n",
            "100:\tlearn: 0.7647925\ttest: 0.7665593\tbest: 0.7665593 (100)\ttotal: 5m 37s\tremaining: 49m 59s\n",
            "101:\tlearn: 0.7655462\ttest: 0.7670545\tbest: 0.7670545 (101)\ttotal: 5m 40s\tremaining: 49m 56s\n",
            "102:\tlearn: 0.7681277\ttest: 0.7698914\tbest: 0.7698914 (102)\ttotal: 5m 43s\tremaining: 49m 53s\n",
            "103:\tlearn: 0.7697170\ttest: 0.7714815\tbest: 0.7714815 (103)\ttotal: 5m 47s\tremaining: 49m 50s\n",
            "104:\tlearn: 0.7705802\ttest: 0.7725464\tbest: 0.7725464 (104)\ttotal: 5m 50s\tremaining: 49m 48s\n",
            "105:\tlearn: 0.7724384\ttest: 0.7747406\tbest: 0.7747406 (105)\ttotal: 5m 53s\tremaining: 49m 45s\n",
            "106:\tlearn: 0.7748393\ttest: 0.7762486\tbest: 0.7762486 (106)\ttotal: 5m 57s\tremaining: 49m 43s\n",
            "107:\tlearn: 0.7757043\ttest: 0.7770027\tbest: 0.7770027 (107)\ttotal: 6m\tremaining: 49m 40s\n",
            "108:\tlearn: 0.7777476\ttest: 0.7794159\tbest: 0.7794159 (108)\ttotal: 6m 4s\tremaining: 49m 38s\n",
            "109:\tlearn: 0.7783863\ttest: 0.7803293\tbest: 0.7803293 (109)\ttotal: 6m 7s\tremaining: 49m 35s\n",
            "110:\tlearn: 0.7786371\ttest: 0.7808901\tbest: 0.7808901 (110)\ttotal: 6m 11s\tremaining: 49m 32s\n",
            "111:\tlearn: 0.7805497\ttest: 0.7825448\tbest: 0.7825448 (111)\ttotal: 6m 14s\tremaining: 49m 30s\n",
            "112:\tlearn: 0.7811678\ttest: 0.7832006\tbest: 0.7832006 (112)\ttotal: 6m 18s\tremaining: 49m 28s\n",
            "113:\tlearn: 0.7819327\ttest: 0.7834458\tbest: 0.7834458 (113)\ttotal: 6m 21s\tremaining: 49m 26s\n",
            "114:\tlearn: 0.7826822\ttest: 0.7841627\tbest: 0.7841627 (114)\ttotal: 6m 25s\tremaining: 49m 23s\n",
            "115:\tlearn: 0.7843619\ttest: 0.7854212\tbest: 0.7854212 (115)\ttotal: 6m 28s\tremaining: 49m 20s\n",
            "116:\tlearn: 0.7859575\ttest: 0.7873785\tbest: 0.7873785 (116)\ttotal: 6m 31s\tremaining: 49m 17s\n",
            "117:\tlearn: 0.7864649\ttest: 0.7880185\tbest: 0.7880185 (117)\ttotal: 6m 35s\tremaining: 49m 14s\n",
            "118:\tlearn: 0.7876250\ttest: 0.7894102\tbest: 0.7894102 (118)\ttotal: 6m 38s\tremaining: 49m 11s\n",
            "119:\tlearn: 0.7882378\ttest: 0.7904828\tbest: 0.7904828 (119)\ttotal: 6m 42s\tremaining: 49m 8s\n",
            "120:\tlearn: 0.7893499\ttest: 0.7909355\tbest: 0.7909355 (120)\ttotal: 6m 45s\tremaining: 49m 6s\n",
            "121:\tlearn: 0.7898819\ttest: 0.7911141\tbest: 0.7911141 (121)\ttotal: 6m 48s\tremaining: 49m 2s\n",
            "122:\tlearn: 0.7911477\ttest: 0.7928163\tbest: 0.7928163 (122)\ttotal: 6m 52s\tremaining: 49m\n",
            "123:\tlearn: 0.7918515\ttest: 0.7931226\tbest: 0.7931226 (123)\ttotal: 6m 55s\tremaining: 48m 57s\n",
            "124:\tlearn: 0.7930265\ttest: 0.7938127\tbest: 0.7938127 (124)\ttotal: 6m 59s\tremaining: 48m 55s\n",
            "125:\tlearn: 0.7939961\ttest: 0.7945028\tbest: 0.7945028 (125)\ttotal: 7m 2s\tremaining: 48m 51s\n",
            "126:\tlearn: 0.7945774\ttest: 0.7952445\tbest: 0.7952445 (126)\ttotal: 7m 6s\tremaining: 48m 48s\n",
            "127:\tlearn: 0.7946694\ttest: 0.7954435\tbest: 0.7954435 (127)\ttotal: 7m 9s\tremaining: 48m 46s\n",
            "128:\tlearn: 0.7953992\ttest: 0.7964334\tbest: 0.7964334 (128)\ttotal: 7m 12s\tremaining: 48m 43s\n",
            "129:\tlearn: 0.7958967\ttest: 0.7970021\tbest: 0.7970021 (129)\ttotal: 7m 16s\tremaining: 48m 40s\n",
            "130:\tlearn: 0.7962829\ttest: 0.7978655\tbest: 0.7978655 (130)\ttotal: 7m 19s\tremaining: 48m 37s\n",
            "131:\tlearn: 0.7966693\ttest: 0.7981034\tbest: 0.7981034 (131)\ttotal: 7m 23s\tremaining: 48m 33s\n",
            "132:\tlearn: 0.7969414\ttest: 0.7984691\tbest: 0.7984691 (132)\ttotal: 7m 26s\tremaining: 48m 30s\n",
            "133:\tlearn: 0.7977376\ttest: 0.7994372\tbest: 0.7994372 (133)\ttotal: 7m 29s\tremaining: 48m 27s\n",
            "134:\tlearn: 0.7988065\ttest: 0.8003425\tbest: 0.8003425 (134)\ttotal: 7m 33s\tremaining: 48m 24s\n",
            "135:\tlearn: 0.7998792\ttest: 0.8009483\tbest: 0.8009483 (135)\ttotal: 7m 36s\tremaining: 48m 21s\n",
            "136:\tlearn: 0.8004343\ttest: 0.8020768\tbest: 0.8020768 (136)\ttotal: 7m 40s\tremaining: 48m 17s\n",
            "137:\tlearn: 0.8010901\ttest: 0.8026312\tbest: 0.8026312 (137)\ttotal: 7m 43s\tremaining: 48m 14s\n",
            "138:\tlearn: 0.8025096\ttest: 0.8033825\tbest: 0.8033825 (138)\ttotal: 7m 46s\tremaining: 48m 11s\n",
            "139:\tlearn: 0.8031292\ttest: 0.8037281\tbest: 0.8037281 (139)\ttotal: 7m 50s\tremaining: 48m 8s\n",
            "140:\tlearn: 0.8036923\ttest: 0.8045518\tbest: 0.8045518 (140)\ttotal: 7m 53s\tremaining: 48m 5s\n",
            "141:\tlearn: 0.8042528\ttest: 0.8047103\tbest: 0.8047103 (141)\ttotal: 7m 57s\tremaining: 48m 2s\n",
            "142:\tlearn: 0.8047508\ttest: 0.8052142\tbest: 0.8052142 (142)\ttotal: 8m\tremaining: 47m 59s\n",
            "143:\tlearn: 0.8053123\ttest: 0.8058004\tbest: 0.8058004 (143)\ttotal: 8m 3s\tremaining: 47m 56s\n",
            "144:\tlearn: 0.8062476\ttest: 0.8066537\tbest: 0.8066537 (144)\ttotal: 8m 7s\tremaining: 47m 54s\n",
            "145:\tlearn: 0.8065468\ttest: 0.8066960\tbest: 0.8066960 (145)\ttotal: 8m 10s\tremaining: 47m 50s\n",
            "146:\tlearn: 0.8077318\ttest: 0.8073731\tbest: 0.8073731 (146)\ttotal: 8m 14s\tremaining: 47m 47s\n",
            "147:\tlearn: 0.8089503\ttest: 0.8091907\tbest: 0.8091907 (147)\ttotal: 8m 17s\tremaining: 47m 45s\n",
            "148:\tlearn: 0.8102243\ttest: 0.8098137\tbest: 0.8098137 (148)\ttotal: 8m 21s\tremaining: 47m 42s\n",
            "149:\tlearn: 0.8106032\ttest: 0.8098398\tbest: 0.8098398 (149)\ttotal: 8m 24s\tremaining: 47m 38s\n",
            "150:\tlearn: 0.8110538\ttest: 0.8100735\tbest: 0.8100735 (150)\ttotal: 8m 27s\tremaining: 47m 35s\n",
            "151:\tlearn: 0.8116354\ttest: 0.8110100\tbest: 0.8110100 (151)\ttotal: 8m 31s\tremaining: 47m 32s\n",
            "152:\tlearn: 0.8117090\ttest: 0.8112728\tbest: 0.8112728 (152)\ttotal: 8m 34s\tremaining: 47m 29s\n",
            "153:\tlearn: 0.8121253\ttest: 0.8112882\tbest: 0.8112882 (153)\ttotal: 8m 38s\tremaining: 47m 25s\n",
            "154:\tlearn: 0.8127874\ttest: 0.8116107\tbest: 0.8116107 (154)\ttotal: 8m 41s\tremaining: 47m 22s\n",
            "155:\tlearn: 0.8140568\ttest: 0.8124018\tbest: 0.8124018 (155)\ttotal: 8m 44s\tremaining: 47m 19s\n",
            "156:\tlearn: 0.8141137\ttest: 0.8126245\tbest: 0.8126245 (156)\ttotal: 8m 48s\tremaining: 47m 16s\n",
            "157:\tlearn: 0.8146085\ttest: 0.8132236\tbest: 0.8132236 (157)\ttotal: 8m 51s\tremaining: 47m 13s\n",
            "158:\tlearn: 0.8150787\ttest: 0.8138519\tbest: 0.8138519 (158)\ttotal: 8m 55s\tremaining: 47m 10s\n",
            "159:\tlearn: 0.8156509\ttest: 0.8145685\tbest: 0.8145685 (159)\ttotal: 8m 58s\tremaining: 47m 7s\n",
            "160:\tlearn: 0.8165208\ttest: 0.8156251\tbest: 0.8156251 (160)\ttotal: 9m 1s\tremaining: 47m 4s\n",
            "161:\tlearn: 0.8165535\ttest: 0.8159628\tbest: 0.8159628 (161)\ttotal: 9m 5s\tremaining: 47m\n",
            "162:\tlearn: 0.8175007\ttest: 0.8160557\tbest: 0.8160557 (162)\ttotal: 9m 8s\tremaining: 46m 58s\n",
            "163:\tlearn: 0.8180968\ttest: 0.8165130\tbest: 0.8165130 (163)\ttotal: 9m 12s\tremaining: 46m 55s\n",
            "164:\tlearn: 0.8189950\ttest: 0.8172482\tbest: 0.8172482 (164)\ttotal: 9m 15s\tremaining: 46m 51s\n",
            "165:\tlearn: 0.8190339\ttest: 0.8175158\tbest: 0.8175158 (165)\ttotal: 9m 18s\tremaining: 46m 48s\n",
            "166:\tlearn: 0.8201905\ttest: 0.8185357\tbest: 0.8185357 (166)\ttotal: 9m 22s\tremaining: 46m 44s\n",
            "167:\tlearn: 0.8206662\ttest: 0.8190200\tbest: 0.8190200 (167)\ttotal: 9m 25s\tremaining: 46m 41s\n",
            "168:\tlearn: 0.8209864\ttest: 0.8194845\tbest: 0.8194845 (168)\ttotal: 9m 29s\tremaining: 46m 38s\n",
            "169:\tlearn: 0.8215025\ttest: 0.8198903\tbest: 0.8198903 (169)\ttotal: 9m 32s\tremaining: 46m 35s\n",
            "170:\tlearn: 0.8219518\ttest: 0.8205398\tbest: 0.8205398 (170)\ttotal: 9m 35s\tremaining: 46m 31s\n",
            "171:\tlearn: 0.8227274\ttest: 0.8213523\tbest: 0.8213523 (171)\ttotal: 9m 39s\tremaining: 46m 28s\n",
            "172:\tlearn: 0.8228790\ttest: 0.8215590\tbest: 0.8215590 (172)\ttotal: 9m 42s\tremaining: 46m 24s\n",
            "173:\tlearn: 0.8237516\ttest: 0.8222611\tbest: 0.8222611 (173)\ttotal: 9m 45s\tremaining: 46m 21s\n",
            "174:\tlearn: 0.8235754\ttest: 0.8221650\tbest: 0.8222611 (173)\ttotal: 9m 49s\tremaining: 46m 18s\n",
            "175:\tlearn: 0.8238741\ttest: 0.8223574\tbest: 0.8223574 (175)\ttotal: 9m 52s\tremaining: 46m 15s\n",
            "176:\tlearn: 0.8242680\ttest: 0.8228870\tbest: 0.8228870 (176)\ttotal: 9m 56s\tremaining: 46m 12s\n",
            "177:\tlearn: 0.8245854\ttest: 0.8235769\tbest: 0.8235769 (177)\ttotal: 9m 59s\tremaining: 46m 8s\n",
            "178:\tlearn: 0.8255790\ttest: 0.8240810\tbest: 0.8240810 (178)\ttotal: 10m 3s\tremaining: 46m 5s\n",
            "179:\tlearn: 0.8260656\ttest: 0.8247177\tbest: 0.8247177 (179)\ttotal: 10m 6s\tremaining: 46m 2s\n",
            "180:\tlearn: 0.8265784\ttest: 0.8254063\tbest: 0.8254063 (180)\ttotal: 10m 9s\tremaining: 45m 59s\n",
            "181:\tlearn: 0.8270209\ttest: 0.8261564\tbest: 0.8261564 (181)\ttotal: 10m 13s\tremaining: 45m 56s\n",
            "182:\tlearn: 0.8280406\ttest: 0.8269091\tbest: 0.8269091 (182)\ttotal: 10m 16s\tremaining: 45m 53s\n",
            "183:\tlearn: 0.8284665\ttest: 0.8272059\tbest: 0.8272059 (183)\ttotal: 10m 20s\tremaining: 45m 49s\n",
            "184:\tlearn: 0.8282827\ttest: 0.8274301\tbest: 0.8274301 (184)\ttotal: 10m 23s\tremaining: 45m 46s\n",
            "185:\tlearn: 0.8287686\ttest: 0.8278341\tbest: 0.8278341 (185)\ttotal: 10m 26s\tremaining: 45m 43s\n",
            "186:\tlearn: 0.8291543\ttest: 0.8281866\tbest: 0.8281866 (186)\ttotal: 10m 30s\tremaining: 45m 40s\n",
            "187:\tlearn: 0.8297988\ttest: 0.8285637\tbest: 0.8285637 (187)\ttotal: 10m 33s\tremaining: 45m 37s\n",
            "188:\tlearn: 0.8304904\ttest: 0.8289958\tbest: 0.8289958 (188)\ttotal: 10m 37s\tremaining: 45m 33s\n",
            "189:\tlearn: 0.8309980\ttest: 0.8296306\tbest: 0.8296306 (189)\ttotal: 10m 40s\tremaining: 45m 30s\n",
            "190:\tlearn: 0.8314048\ttest: 0.8301256\tbest: 0.8301256 (190)\ttotal: 10m 43s\tremaining: 45m 27s\n",
            "191:\tlearn: 0.8319758\ttest: 0.8306207\tbest: 0.8306207 (191)\ttotal: 10m 47s\tremaining: 45m 23s\n",
            "192:\tlearn: 0.8321899\ttest: 0.8312975\tbest: 0.8312975 (192)\ttotal: 10m 50s\tremaining: 45m 20s\n",
            "193:\tlearn: 0.8324262\ttest: 0.8308241\tbest: 0.8312975 (192)\ttotal: 10m 54s\tremaining: 45m 17s\n",
            "194:\tlearn: 0.8324569\ttest: 0.8310426\tbest: 0.8312975 (192)\ttotal: 10m 57s\tremaining: 45m 14s\n",
            "195:\tlearn: 0.8327511\ttest: 0.8313827\tbest: 0.8313827 (195)\ttotal: 11m\tremaining: 45m 10s\n",
            "196:\tlearn: 0.8333219\ttest: 0.8321543\tbest: 0.8321543 (196)\ttotal: 11m 4s\tremaining: 45m 7s\n",
            "197:\tlearn: 0.8336255\ttest: 0.8325288\tbest: 0.8325288 (197)\ttotal: 11m 7s\tremaining: 45m 4s\n",
            "198:\tlearn: 0.8340458\ttest: 0.8330918\tbest: 0.8330918 (198)\ttotal: 11m 11s\tremaining: 45m 1s\n",
            "199:\tlearn: 0.8341111\ttest: 0.8331749\tbest: 0.8331749 (199)\ttotal: 11m 14s\tremaining: 44m 57s\n",
            "200:\tlearn: 0.8343520\ttest: 0.8332306\tbest: 0.8332306 (200)\ttotal: 11m 17s\tremaining: 44m 54s\n",
            "201:\tlearn: 0.8343520\ttest: 0.8332638\tbest: 0.8332638 (201)\ttotal: 11m 21s\tremaining: 44m 50s\n",
            "202:\tlearn: 0.8349655\ttest: 0.8334914\tbest: 0.8334914 (202)\ttotal: 11m 24s\tremaining: 44m 47s\n",
            "203:\tlearn: 0.8356180\ttest: 0.8340980\tbest: 0.8340980 (203)\ttotal: 11m 27s\tremaining: 44m 44s\n",
            "204:\tlearn: 0.8360410\ttest: 0.8343048\tbest: 0.8343048 (204)\ttotal: 11m 31s\tremaining: 44m 41s\n",
            "205:\tlearn: 0.8361415\ttest: 0.8345190\tbest: 0.8345190 (205)\ttotal: 11m 34s\tremaining: 44m 37s\n",
            "206:\tlearn: 0.8363555\ttest: 0.8348109\tbest: 0.8348109 (206)\ttotal: 11m 38s\tremaining: 44m 34s\n",
            "207:\tlearn: 0.8371493\ttest: 0.8353293\tbest: 0.8353293 (207)\ttotal: 11m 41s\tremaining: 44m 31s\n",
            "208:\tlearn: 0.8371442\ttest: 0.8355212\tbest: 0.8355212 (208)\ttotal: 11m 44s\tremaining: 44m 27s\n",
            "209:\tlearn: 0.8378784\ttest: 0.8360479\tbest: 0.8360479 (209)\ttotal: 11m 48s\tremaining: 44m 24s\n",
            "210:\tlearn: 0.8381083\ttest: 0.8368938\tbest: 0.8368938 (210)\ttotal: 11m 51s\tremaining: 44m 21s\n",
            "211:\tlearn: 0.8385064\ttest: 0.8368711\tbest: 0.8368938 (210)\ttotal: 11m 55s\tremaining: 44m 18s\n",
            "212:\tlearn: 0.8386382\ttest: 0.8369823\tbest: 0.8369823 (212)\ttotal: 11m 58s\tremaining: 44m 14s\n",
            "213:\tlearn: 0.8388177\ttest: 0.8371494\tbest: 0.8371494 (213)\ttotal: 12m 1s\tremaining: 44m 11s\n",
            "214:\tlearn: 0.8389095\ttest: 0.8376096\tbest: 0.8376096 (214)\ttotal: 12m 5s\tremaining: 44m 8s\n",
            "215:\tlearn: 0.8393303\ttest: 0.8376654\tbest: 0.8376654 (215)\ttotal: 12m 8s\tremaining: 44m 4s\n",
            "216:\tlearn: 0.8396063\ttest: 0.8379824\tbest: 0.8379824 (216)\ttotal: 12m 12s\tremaining: 44m 1s\n",
            "217:\tlearn: 0.8402343\ttest: 0.8388523\tbest: 0.8388523 (217)\ttotal: 12m 15s\tremaining: 43m 58s\n",
            "218:\tlearn: 0.8405156\ttest: 0.8390333\tbest: 0.8390333 (218)\ttotal: 12m 19s\tremaining: 43m 55s\n",
            "219:\tlearn: 0.8406845\ttest: 0.8389219\tbest: 0.8390333 (218)\ttotal: 12m 22s\tremaining: 43m 52s\n",
            "220:\tlearn: 0.8412540\ttest: 0.8398734\tbest: 0.8398734 (220)\ttotal: 12m 25s\tremaining: 43m 49s\n",
            "221:\tlearn: 0.8417507\ttest: 0.8401689\tbest: 0.8401689 (221)\ttotal: 12m 29s\tremaining: 43m 45s\n",
            "222:\tlearn: 0.8419375\ttest: 0.8407447\tbest: 0.8407447 (222)\ttotal: 12m 32s\tremaining: 43m 42s\n",
            "223:\tlearn: 0.8420260\ttest: 0.8407011\tbest: 0.8407447 (222)\ttotal: 12m 36s\tremaining: 43m 39s\n",
            "224:\tlearn: 0.8426550\ttest: 0.8410930\tbest: 0.8410930 (224)\ttotal: 12m 39s\tremaining: 43m 36s\n",
            "225:\tlearn: 0.8428836\ttest: 0.8415144\tbest: 0.8415144 (225)\ttotal: 12m 43s\tremaining: 43m 33s\n",
            "226:\tlearn: 0.8430108\ttest: 0.8417253\tbest: 0.8417253 (226)\ttotal: 12m 46s\tremaining: 43m 29s\n",
            "227:\tlearn: 0.8432151\ttest: 0.8418926\tbest: 0.8418926 (227)\ttotal: 12m 49s\tremaining: 43m 26s\n",
            "228:\tlearn: 0.8433100\ttest: 0.8422444\tbest: 0.8422444 (228)\ttotal: 12m 53s\tremaining: 43m 22s\n",
            "229:\tlearn: 0.8437613\ttest: 0.8426216\tbest: 0.8426216 (229)\ttotal: 12m 56s\tremaining: 43m 19s\n",
            "230:\tlearn: 0.8437315\ttest: 0.8425788\tbest: 0.8426216 (229)\ttotal: 12m 59s\tremaining: 43m 16s\n",
            "231:\tlearn: 0.8438582\ttest: 0.8426416\tbest: 0.8426416 (231)\ttotal: 13m 3s\tremaining: 43m 12s\n",
            "232:\tlearn: 0.8440624\ttest: 0.8429677\tbest: 0.8429677 (232)\ttotal: 13m 6s\tremaining: 43m 9s\n",
            "233:\tlearn: 0.8448171\ttest: 0.8431292\tbest: 0.8431292 (233)\ttotal: 13m 9s\tremaining: 43m 5s\n",
            "234:\tlearn: 0.8449832\ttest: 0.8435350\tbest: 0.8435350 (234)\ttotal: 13m 13s\tremaining: 43m 2s\n",
            "235:\tlearn: 0.8455271\ttest: 0.8434075\tbest: 0.8435350 (234)\ttotal: 13m 16s\tremaining: 42m 59s\n",
            "236:\tlearn: 0.8457151\ttest: 0.8440315\tbest: 0.8440315 (236)\ttotal: 13m 20s\tremaining: 42m 55s\n",
            "237:\tlearn: 0.8459826\ttest: 0.8438551\tbest: 0.8440315 (236)\ttotal: 13m 23s\tremaining: 42m 52s\n",
            "238:\tlearn: 0.8463009\ttest: 0.8443718\tbest: 0.8443718 (238)\ttotal: 13m 26s\tremaining: 42m 49s\n",
            "239:\tlearn: 0.8463488\ttest: 0.8444167\tbest: 0.8444167 (239)\ttotal: 13m 30s\tremaining: 42m 45s\n",
            "240:\tlearn: 0.8462174\ttest: 0.8446395\tbest: 0.8446395 (240)\ttotal: 13m 33s\tremaining: 42m 41s\n",
            "241:\tlearn: 0.8463185\ttest: 0.8448951\tbest: 0.8448951 (241)\ttotal: 13m 36s\tremaining: 42m 38s\n",
            "242:\tlearn: 0.8466413\ttest: 0.8450191\tbest: 0.8450191 (242)\ttotal: 13m 40s\tremaining: 42m 35s\n",
            "243:\tlearn: 0.8472078\ttest: 0.8452254\tbest: 0.8452254 (243)\ttotal: 13m 43s\tremaining: 42m 31s\n",
            "244:\tlearn: 0.8473481\ttest: 0.8454656\tbest: 0.8454656 (244)\ttotal: 13m 47s\tremaining: 42m 28s\n",
            "245:\tlearn: 0.8475439\ttest: 0.8455535\tbest: 0.8455535 (245)\ttotal: 13m 50s\tremaining: 42m 25s\n",
            "246:\tlearn: 0.8475671\ttest: 0.8456144\tbest: 0.8456144 (246)\ttotal: 13m 53s\tremaining: 42m 21s\n",
            "247:\tlearn: 0.8476345\ttest: 0.8459288\tbest: 0.8459288 (247)\ttotal: 13m 57s\tremaining: 42m 18s\n",
            "248:\tlearn: 0.8478009\ttest: 0.8460104\tbest: 0.8460104 (248)\ttotal: 14m\tremaining: 42m 15s\n",
            "249:\tlearn: 0.8481980\ttest: 0.8464169\tbest: 0.8464169 (249)\ttotal: 14m 3s\tremaining: 42m 11s\n",
            "250:\tlearn: 0.8483779\ttest: 0.8465502\tbest: 0.8465502 (250)\ttotal: 14m 7s\tremaining: 42m 8s\n",
            "251:\tlearn: 0.8485924\ttest: 0.8469214\tbest: 0.8469214 (251)\ttotal: 14m 10s\tremaining: 42m 5s\n",
            "252:\tlearn: 0.8487819\ttest: 0.8470745\tbest: 0.8470745 (252)\ttotal: 14m 14s\tremaining: 42m 1s\n",
            "253:\tlearn: 0.8492491\ttest: 0.8475234\tbest: 0.8475234 (253)\ttotal: 14m 17s\tremaining: 41m 58s\n",
            "254:\tlearn: 0.8493191\ttest: 0.8473957\tbest: 0.8475234 (253)\ttotal: 14m 20s\tremaining: 41m 54s\n",
            "255:\tlearn: 0.8495198\ttest: 0.8474868\tbest: 0.8475234 (253)\ttotal: 14m 24s\tremaining: 41m 51s\n",
            "256:\tlearn: 0.8497237\ttest: 0.8477277\tbest: 0.8477277 (256)\ttotal: 14m 27s\tremaining: 41m 47s\n",
            "257:\tlearn: 0.8500576\ttest: 0.8483617\tbest: 0.8483617 (257)\ttotal: 14m 30s\tremaining: 41m 44s\n",
            "258:\tlearn: 0.8502781\ttest: 0.8487139\tbest: 0.8487139 (258)\ttotal: 14m 34s\tremaining: 41m 41s\n",
            "259:\tlearn: 0.8503013\ttest: 0.8488610\tbest: 0.8488610 (259)\ttotal: 14m 37s\tremaining: 41m 37s\n",
            "260:\tlearn: 0.8504158\ttest: 0.8488528\tbest: 0.8488610 (259)\ttotal: 14m 40s\tremaining: 41m 34s\n",
            "261:\tlearn: 0.8506723\ttest: 0.8493967\tbest: 0.8493967 (261)\ttotal: 14m 44s\tremaining: 41m 31s\n",
            "262:\tlearn: 0.8510050\ttest: 0.8497637\tbest: 0.8497637 (262)\ttotal: 14m 47s\tremaining: 41m 28s\n",
            "263:\tlearn: 0.8510413\ttest: 0.8496655\tbest: 0.8497637 (262)\ttotal: 14m 51s\tremaining: 41m 24s\n",
            "264:\tlearn: 0.8511836\ttest: 0.8499739\tbest: 0.8499739 (264)\ttotal: 14m 54s\tremaining: 41m 21s\n",
            "265:\tlearn: 0.8513245\ttest: 0.8502591\tbest: 0.8502591 (265)\ttotal: 14m 58s\tremaining: 41m 18s\n",
            "266:\tlearn: 0.8512889\ttest: 0.8503795\tbest: 0.8503795 (266)\ttotal: 15m 1s\tremaining: 41m 14s\n",
            "267:\tlearn: 0.8513473\ttest: 0.8502980\tbest: 0.8503795 (266)\ttotal: 15m 4s\tremaining: 41m 11s\n",
            "268:\tlearn: 0.8516402\ttest: 0.8506511\tbest: 0.8506511 (268)\ttotal: 15m 8s\tremaining: 41m 8s\n",
            "269:\tlearn: 0.8520048\ttest: 0.8510589\tbest: 0.8510589 (269)\ttotal: 15m 11s\tremaining: 41m 4s\n",
            "270:\tlearn: 0.8518590\ttest: 0.8508781\tbest: 0.8510589 (269)\ttotal: 15m 14s\tremaining: 41m 1s\n",
            "271:\tlearn: 0.8519975\ttest: 0.8507190\tbest: 0.8510589 (269)\ttotal: 15m 18s\tremaining: 40m 57s\n",
            "272:\tlearn: 0.8522691\ttest: 0.8509583\tbest: 0.8510589 (269)\ttotal: 15m 21s\tremaining: 40m 54s\n",
            "273:\tlearn: 0.8528650\ttest: 0.8512912\tbest: 0.8512912 (273)\ttotal: 15m 25s\tremaining: 40m 51s\n",
            "274:\tlearn: 0.8529367\ttest: 0.8512333\tbest: 0.8512912 (273)\ttotal: 15m 28s\tremaining: 40m 47s\n",
            "275:\tlearn: 0.8533289\ttest: 0.8512926\tbest: 0.8512926 (275)\ttotal: 15m 32s\tremaining: 40m 44s\n",
            "276:\tlearn: 0.8535239\ttest: 0.8514610\tbest: 0.8514610 (276)\ttotal: 15m 35s\tremaining: 40m 41s\n",
            "277:\tlearn: 0.8536105\ttest: 0.8515710\tbest: 0.8515710 (277)\ttotal: 15m 38s\tremaining: 40m 37s\n",
            "278:\tlearn: 0.8538998\ttest: 0.8518741\tbest: 0.8518741 (278)\ttotal: 15m 42s\tremaining: 40m 34s\n",
            "279:\tlearn: 0.8541433\ttest: 0.8517112\tbest: 0.8518741 (278)\ttotal: 15m 45s\tremaining: 40m 31s\n",
            "280:\tlearn: 0.8543091\ttest: 0.8518437\tbest: 0.8518741 (278)\ttotal: 15m 48s\tremaining: 40m 28s\n",
            "281:\tlearn: 0.8544708\ttest: 0.8526033\tbest: 0.8526033 (281)\ttotal: 15m 52s\tremaining: 40m 24s\n",
            "282:\tlearn: 0.8546271\ttest: 0.8526175\tbest: 0.8526175 (282)\ttotal: 15m 55s\tremaining: 40m 21s\n",
            "283:\tlearn: 0.8546764\ttest: 0.8526343\tbest: 0.8526343 (283)\ttotal: 15m 59s\tremaining: 40m 18s\n",
            "284:\tlearn: 0.8547838\ttest: 0.8526544\tbest: 0.8526544 (284)\ttotal: 16m 2s\tremaining: 40m 14s\n",
            "285:\tlearn: 0.8549737\ttest: 0.8529415\tbest: 0.8529415 (285)\ttotal: 16m 5s\tremaining: 40m 11s\n",
            "286:\tlearn: 0.8551097\ttest: 0.8529303\tbest: 0.8529415 (285)\ttotal: 16m 9s\tremaining: 40m 8s\n",
            "287:\tlearn: 0.8555673\ttest: 0.8533017\tbest: 0.8533017 (287)\ttotal: 16m 12s\tremaining: 40m 4s\n",
            "288:\tlearn: 0.8556525\ttest: 0.8533194\tbest: 0.8533194 (288)\ttotal: 16m 16s\tremaining: 40m 1s\n",
            "289:\tlearn: 0.8557810\ttest: 0.8537681\tbest: 0.8537681 (289)\ttotal: 16m 19s\tremaining: 39m 58s\n",
            "290:\tlearn: 0.8557972\ttest: 0.8537727\tbest: 0.8537727 (290)\ttotal: 16m 22s\tremaining: 39m 54s\n",
            "291:\tlearn: 0.8558425\ttest: 0.8544210\tbest: 0.8544210 (291)\ttotal: 16m 26s\tremaining: 39m 51s\n",
            "292:\tlearn: 0.8561823\ttest: 0.8547015\tbest: 0.8547015 (292)\ttotal: 16m 29s\tremaining: 39m 48s\n",
            "293:\tlearn: 0.8561794\ttest: 0.8548764\tbest: 0.8548764 (293)\ttotal: 16m 33s\tremaining: 39m 44s\n",
            "294:\tlearn: 0.8562863\ttest: 0.8547494\tbest: 0.8548764 (293)\ttotal: 16m 36s\tremaining: 39m 41s\n",
            "295:\tlearn: 0.8564318\ttest: 0.8548130\tbest: 0.8548764 (293)\ttotal: 16m 39s\tremaining: 39m 37s\n",
            "296:\tlearn: 0.8566178\ttest: 0.8549416\tbest: 0.8549416 (296)\ttotal: 16m 43s\tremaining: 39m 34s\n",
            "297:\tlearn: 0.8569542\ttest: 0.8554085\tbest: 0.8554085 (297)\ttotal: 16m 46s\tremaining: 39m 31s\n",
            "298:\tlearn: 0.8570015\ttest: 0.8550796\tbest: 0.8554085 (297)\ttotal: 16m 49s\tremaining: 39m 27s\n",
            "299:\tlearn: 0.8569854\ttest: 0.8553625\tbest: 0.8554085 (297)\ttotal: 16m 53s\tremaining: 39m 24s\n",
            "300:\tlearn: 0.8572503\ttest: 0.8555067\tbest: 0.8555067 (300)\ttotal: 16m 56s\tremaining: 39m 21s\n",
            "301:\tlearn: 0.8573550\ttest: 0.8558854\tbest: 0.8558854 (301)\ttotal: 17m\tremaining: 39m 18s\n",
            "302:\tlearn: 0.8577218\ttest: 0.8561055\tbest: 0.8561055 (302)\ttotal: 17m 3s\tremaining: 39m 15s\n",
            "303:\tlearn: 0.8577111\ttest: 0.8561505\tbest: 0.8561505 (303)\ttotal: 17m 7s\tremaining: 39m 11s\n",
            "304:\tlearn: 0.8577371\ttest: 0.8566830\tbest: 0.8566830 (304)\ttotal: 17m 10s\tremaining: 39m 8s\n",
            "305:\tlearn: 0.8581492\ttest: 0.8568999\tbest: 0.8568999 (305)\ttotal: 17m 13s\tremaining: 39m 4s\n",
            "306:\tlearn: 0.8582608\ttest: 0.8568684\tbest: 0.8568999 (305)\ttotal: 17m 17s\tremaining: 39m 1s\n",
            "307:\tlearn: 0.8585310\ttest: 0.8567668\tbest: 0.8568999 (305)\ttotal: 17m 20s\tremaining: 38m 58s\n",
            "308:\tlearn: 0.8583579\ttest: 0.8568940\tbest: 0.8568999 (305)\ttotal: 17m 24s\tremaining: 38m 54s\n",
            "309:\tlearn: 0.8586105\ttest: 0.8568417\tbest: 0.8568999 (305)\ttotal: 17m 27s\tremaining: 38m 51s\n",
            "310:\tlearn: 0.8589829\ttest: 0.8570240\tbest: 0.8570240 (310)\ttotal: 17m 30s\tremaining: 38m 48s\n",
            "311:\tlearn: 0.8589800\ttest: 0.8571348\tbest: 0.8571348 (311)\ttotal: 17m 34s\tremaining: 38m 44s\n",
            "312:\tlearn: 0.8590404\ttest: 0.8575096\tbest: 0.8575096 (312)\ttotal: 17m 37s\tremaining: 38m 41s\n",
            "313:\tlearn: 0.8592564\ttest: 0.8575137\tbest: 0.8575137 (313)\ttotal: 17m 41s\tremaining: 38m 38s\n",
            "314:\tlearn: 0.8592842\ttest: 0.8575713\tbest: 0.8575713 (314)\ttotal: 17m 44s\tremaining: 38m 34s\n",
            "315:\tlearn: 0.8593007\ttest: 0.8574116\tbest: 0.8575713 (314)\ttotal: 17m 47s\tremaining: 38m 31s\n",
            "316:\tlearn: 0.8593826\ttest: 0.8574622\tbest: 0.8575713 (314)\ttotal: 17m 51s\tremaining: 38m 27s\n",
            "317:\tlearn: 0.8597452\ttest: 0.8575306\tbest: 0.8575713 (314)\ttotal: 17m 54s\tremaining: 38m 24s\n",
            "318:\tlearn: 0.8596143\ttest: 0.8576480\tbest: 0.8576480 (318)\ttotal: 17m 57s\tremaining: 38m 20s\n",
            "319:\tlearn: 0.8596263\ttest: 0.8578627\tbest: 0.8578627 (319)\ttotal: 18m 1s\tremaining: 38m 17s\n",
            "320:\tlearn: 0.8599380\ttest: 0.8582268\tbest: 0.8582268 (320)\ttotal: 18m 4s\tremaining: 38m 14s\n",
            "321:\tlearn: 0.8602918\ttest: 0.8583541\tbest: 0.8583541 (321)\ttotal: 18m 8s\tremaining: 38m 11s\n",
            "322:\tlearn: 0.8605179\ttest: 0.8589596\tbest: 0.8589596 (322)\ttotal: 18m 11s\tremaining: 38m 7s\n",
            "323:\tlearn: 0.8606234\ttest: 0.8591415\tbest: 0.8591415 (323)\ttotal: 18m 14s\tremaining: 38m 4s\n",
            "324:\tlearn: 0.8610277\ttest: 0.8594636\tbest: 0.8594636 (324)\ttotal: 18m 18s\tremaining: 38m 1s\n",
            "325:\tlearn: 0.8609118\ttest: 0.8598179\tbest: 0.8598179 (325)\ttotal: 18m 21s\tremaining: 37m 58s\n",
            "326:\tlearn: 0.8609238\ttest: 0.8597505\tbest: 0.8598179 (325)\ttotal: 18m 25s\tremaining: 37m 54s\n",
            "327:\tlearn: 0.8609269\ttest: 0.8595915\tbest: 0.8598179 (325)\ttotal: 18m 28s\tremaining: 37m 51s\n",
            "328:\tlearn: 0.8611606\ttest: 0.8598174\tbest: 0.8598179 (325)\ttotal: 18m 31s\tremaining: 37m 47s\n",
            "329:\tlearn: 0.8611574\ttest: 0.8599404\tbest: 0.8599404 (329)\ttotal: 18m 35s\tremaining: 37m 44s\n",
            "330:\tlearn: 0.8613858\ttest: 0.8600243\tbest: 0.8600243 (330)\ttotal: 18m 38s\tremaining: 37m 41s\n",
            "331:\tlearn: 0.8617189\ttest: 0.8601135\tbest: 0.8601135 (331)\ttotal: 18m 42s\tremaining: 37m 37s\n",
            "332:\tlearn: 0.8617730\ttest: 0.8602628\tbest: 0.8602628 (332)\ttotal: 18m 45s\tremaining: 37m 34s\n",
            "333:\tlearn: 0.8619889\ttest: 0.8605755\tbest: 0.8605755 (333)\ttotal: 18m 49s\tremaining: 37m 31s\n",
            "334:\tlearn: 0.8620818\ttest: 0.8603988\tbest: 0.8605755 (333)\ttotal: 18m 52s\tremaining: 37m 27s\n",
            "335:\tlearn: 0.8622465\ttest: 0.8609257\tbest: 0.8609257 (335)\ttotal: 18m 55s\tremaining: 37m 24s\n",
            "336:\tlearn: 0.8624311\ttest: 0.8610886\tbest: 0.8610886 (336)\ttotal: 18m 59s\tremaining: 37m 21s\n"
          ]
        }
      ]
    },
    {
      "cell_type": "markdown",
      "metadata": {
        "id": "IotnLNkdQ4jO"
      },
      "source": [
        "# идеи"
      ]
    },
    {
      "cell_type": "markdown",
      "metadata": {
        "id": "I3NGP4uvQ7Ln"
      },
      "source": [
        "Можно попробовать\n",
        "\n",
        "\n",
        "*   Нагенерировать признаки трансформерными сетками (например Bertом), fasttextом и объеденить с признаками  w2v. \n",
        "\n",
        "*   Использовать разные классификаторы, но даже sgdclassifier дает неплохой результат без подбора гиперпараметров.\n",
        "\n",
        "*   Подобрать гиперпараметры\n",
        "*   Использовать полученные результаты предсказаний высоких уровней для предсказания более низких\n",
        "\n",
        "\n",
        "\n",
        "\n"
      ]
    },
    {
      "cell_type": "code",
      "metadata": {
        "id": "OFzmE6MfQ6Z2"
      },
      "source": [
        ""
      ],
      "execution_count": null,
      "outputs": []
    }
  ]
}